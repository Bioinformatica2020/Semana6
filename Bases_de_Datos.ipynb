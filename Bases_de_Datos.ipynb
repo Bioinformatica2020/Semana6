{
 "cells": [
  {
   "cell_type": "code",
   "execution_count": null,
   "metadata": {},
   "outputs": [],
   "source": []
  },
  {
   "cell_type": "markdown",
   "metadata": {},
   "source": [
    "---\n",
    "# NCBI\n",
    "\n",
    "<img src=\"https://raw.githubusercontent.com/Bioinformatica2020/Semana6/master/ncbi.png\" width = 100%>\n",
    "\n",
    "https://www.ncbi.nlm.nih.gov/\n",
    "\n",
    "---"
   ]
  },
  {
   "cell_type": "code",
   "execution_count": null,
   "metadata": {},
   "outputs": [],
   "source": []
  },
  {
   "cell_type": "markdown",
   "metadata": {},
   "source": [
    "---\n",
    "# Bases de datos que contribuyen con las anotaciones de la Ontología Genética\n",
    "\n",
    "<img src=\"https://raw.githubusercontent.com/Bioinformatica2020/Semana6/master/GO.png\" width = 100%>\n",
    "\n",
    "http://geneontology.org/\n",
    "\n",
    "---"
   ]
  },
  {
   "cell_type": "markdown",
   "metadata": {},
   "source": [
    "---\n",
    "# Bases de datos que contribuyen con las anotaciones en UniProt\n",
    "\n",
    "<img src=\"https://raw.githubusercontent.com/Bioinformatica2020/Semana6/master/uniprot.png\" width = 100%>\n",
    "\n",
    "https://www.uniprot.org/\n",
    "\n",
    "---"
   ]
  },
  {
   "cell_type": "code",
   "execution_count": null,
   "metadata": {},
   "outputs": [],
   "source": []
  },
  {
   "cell_type": "code",
   "execution_count": null,
   "metadata": {},
   "outputs": [],
   "source": []
  },
  {
   "cell_type": "code",
   "execution_count": null,
   "metadata": {},
   "outputs": [],
   "source": []
  },
  {
   "cell_type": "markdown",
   "metadata": {},
   "source": [
    "# NCBI"
   ]
  },
  {
   "cell_type": "code",
   "execution_count": 84,
   "metadata": {},
   "outputs": [],
   "source": [
    "# módulo que permite abrir un sitio web en el navegador\n",
    "import webbrowser"
   ]
  },
  {
   "cell_type": "code",
   "execution_count": 86,
   "metadata": {},
   "outputs": [],
   "source": [
    "url1 = 'https://blast.ncbi.nlm.nih.gov/Blast.cgi?PROGRAM='\n",
    "url2 = '&PAGE_TYPE=BlastSearch&BLAST_SPEC=&LINK_LOC=blasttab&QUERY='"
   ]
  },
  {
   "cell_type": "code",
   "execution_count": null,
   "metadata": {},
   "outputs": [],
   "source": []
  },
  {
   "cell_type": "code",
   "execution_count": 40,
   "metadata": {},
   "outputs": [],
   "source": [
    "seq = 'MEVENEASCSPGSASGGSREYKVVMLGAGGVGKSAMTMQFISHQFPDYHDPTIEDAYKTQ'\\\n",
    "'VRIDNEPAYLDILDTAGQAEFTAMREQYMRGGEGFIICYSVTDRQSFQEAAKFKELIFQV'\\\n",
    "'RHTYEIPLVLVGNKIDLEQFRQVSTEEGLSLAQEYNCGFFETSAALRFCIDDAFHGLVRE'\\\n",
    "'IRKKESMPSLMEKKLKRKDSLWKKLKGSLKKKRENMT'"
   ]
  },
  {
   "cell_type": "code",
   "execution_count": 42,
   "metadata": {},
   "outputs": [
    {
     "data": {
      "text/plain": [
       "'MEVENEASCSPGSASGGSREYKVVMLGAGGVGKSAMTMQFISHQFPDYHDPTIEDAYKTQVRIDNEPAYLDILDTAGQAEFTAMREQYMRGGEGFIICYSVTDRQSFQEAAKFKELIFQVRHTYEIPLVLVGNKIDLEQFRQVSTEEGLSLAQEYNCGFFETSAALRFCIDDAFHGLVREIRKKESMPSLMEKKLKRKDSLWKKLKGSLKKKRENMT'"
      ]
     },
     "execution_count": 42,
     "metadata": {},
     "output_type": "execute_result"
    }
   ],
   "source": [
    "seq"
   ]
  },
  {
   "cell_type": "markdown",
   "metadata": {},
   "source": [
    "# Blastp"
   ]
  },
  {
   "cell_type": "code",
   "execution_count": null,
   "metadata": {},
   "outputs": [],
   "source": []
  },
  {
   "cell_type": "code",
   "execution_count": 43,
   "metadata": {},
   "outputs": [],
   "source": [
    "blast = 'blastp'"
   ]
  },
  {
   "cell_type": "code",
   "execution_count": 87,
   "metadata": {},
   "outputs": [
    {
     "data": {
      "text/plain": [
       "'https://blast.ncbi.nlm.nih.gov/Blast.cgi?PROGRAM=blastn&PAGE_TYPE=BlastSearch&BLAST_SPEC=&LINK_LOC=blasttab&QUERY=MEVENEASCSPGSASGGSREYKVVMLGAGGVGKSAMTMQFISHQFPDYHDPTIEDAYKTQVRIDNEPAYLDILDTAGQAEFTAMREQYMRGGEGFIICYSVTDRQSFQEAAKFKELIFQVRHTYEIPLVLVGNKIDLEQFRQVSTEEGLSLAQEYNCGFFETSAALRFCIDDAFHGLVREIRKKESMPSLMEKKLKRKDSLWKKLKGSLKKKRENMT'"
      ]
     },
     "execution_count": 87,
     "metadata": {},
     "output_type": "execute_result"
    }
   ],
   "source": [
    "url = url1+blast+url2+seq\n",
    "url"
   ]
  },
  {
   "cell_type": "code",
   "execution_count": 88,
   "metadata": {},
   "outputs": [
    {
     "data": {
      "text/plain": [
       "True"
      ]
     },
     "execution_count": 88,
     "metadata": {},
     "output_type": "execute_result"
    }
   ],
   "source": [
    "webbrowser.open_new_tab(url)"
   ]
  },
  {
   "cell_type": "code",
   "execution_count": null,
   "metadata": {},
   "outputs": [],
   "source": []
  },
  {
   "cell_type": "markdown",
   "metadata": {},
   "source": [
    "#### Otra forma de descargar información de la Web sin descargarla localmente"
   ]
  },
  {
   "cell_type": "code",
   "execution_count": 29,
   "metadata": {},
   "outputs": [],
   "source": [
    "import requests"
   ]
  },
  {
   "cell_type": "code",
   "execution_count": 36,
   "metadata": {},
   "outputs": [],
   "source": [
    "nucl = requests.get('https://raw.githubusercontent.com/Bioinformatica2020/Semana6/master/Seq_fasta.txt')"
   ]
  },
  {
   "cell_type": "code",
   "execution_count": 37,
   "metadata": {},
   "outputs": [],
   "source": [
    "nucl = nucl.content.decode()"
   ]
  },
  {
   "cell_type": "code",
   "execution_count": 38,
   "metadata": {
    "scrolled": true
   },
   "outputs": [
    {
     "data": {
      "text/plain": [
       "'ATGAGTTTTTCACAATTGGAGCAGAACATTAAAAAAAAGATAGCCGTCGAAGAAAATATTATTCGGGGAG\\r\\nCTTCTGCCCTCAAGAAAAAGACTAGCAATGTTATGGTCATTCAGAAATGTAATACGAATATTAGAGAGGC\\r\\nACGTCAAAATCTTGAGTACTTGGAGGATAGCTTAAAAAAATTACGGTTGAAGACCGCTCAACAAAGTCAG\\r\\nGGTGAAAATGGCAGCGAAGATAATGAGCGATGCAATTCGAAGGAATACGGGTTTCTTTCTACCAAATCGC\\r\\nCAAATGAACACATATTTTCTCGTTTGGATTTAGTAAAATATGATTGCCCTTCTTTGGCGCAAAGAATCCA\\r\\nATACATGTTGCAACAATTAGAATTCAAATTACAGGTGGAAAAGCAATACCAAGAAGCCAATACTAAATTG\\r\\nACTAAATTGTATCAAATTGACGGTGATCAACGTAGTAGTTCTGCGGCAGAAGGGGGTGCTATGGAATCCA\\r\\nAATACAGGATTCAAATGCTTAACAAAGCTTTGAAGAAATACCAAGCTATTAACGTTGACTTTGATCAATT\\r\\nTAAACACCAACCCAATGACATAATGGATAATCAACAACCGAAATTCCGAAGAAAACAACTGACTGGCGTT\\r\\nCTAACAATTGGAATAACTGCTGCTAGAGATGTTGACCATATACAATCACCGATGTTTGCCAGGAAGCCAG\\r\\nAGAGCTACGTTACTATAAAAATCGATGATACGATCAAAGCCAGAACGAAGCCTTCTAGAAATGACAGGTG\\r\\nGAGTGAAGATTTTCAAATTCCAGTTGAAAAAGGGAATGAAATCGAGATTACTGTATATGATAAGGTGAAC\\r\\nGACTCGCTCATTCCAGTGGCTATAATGTGGTTACTGCTTTCCGATATCGCTGAAGAAATTCGTAAGAAGA\\r\\nAAGCCGGACAAACAAATGAACAACAAGGATGGGTCAACGCTTCAAACATTAATGGTGGTTCTTCTCTCGC\\r\\nTAGCGAAGAGGGAAGCACATTGACTTCTACATACTCAAACTCAGCCATTCAGTCTACTTCAGCAAAGAAT\\r\\nGTGCAAGGCGAAAATACATCAACTAGTCAAATCAGTACGAATTCATGGTTTGTCTTAGAACCATCCGGGC\\r\\nAGATTTTGTTAACACTAGGATTCCACAAGTCTTCTCAAATAGAAAGGAAGCAGTTGATGGGTGGACTACA\\r\\nTCGTCATGGTGCTATTATCAATAGGAAAGAAGAGATATTCGAACAGCATGGCCACCACTTTGTACAAAAA\\r\\nTCATTTTACAACATTATGTGCTGTGCATATTGTGGTGATTTCCTTCGGTATACTGGGTTCCAATGTCAAG\\r\\nATTGTAAATTTTTATGTCACAAAAAATGTTACACCAATGTTGTTACTAAGTGTATTGCTAAAACTTCTAC\\r\\nTGATACGGATCCGGACGAGGCAAAGTTGAACCACCGTATTCCTCATAGATTCCTGCCTACTTCAAACCGT\\r\\nGGTACTAAATGGTGCTGTCACTGTGGTTATATTTTACCATGGGGTAGACATAAAGTACGCAAATGTTCTG\\r\\nAATGTGGTATAATGTGTCATGCTCAATGTGCTCATTTGGTTCCCGATTTCTGTGGCATGTCGATGGAAAT\\r\\nGGCTAATAAAATTCTGAAAACGATTCAAGACACAAAACGTAATCAAGAGAAAAAGAAGAGGACAGTTCCG\\r\\nTCGGCACAGTTGGGGTCATCTATTGGTACTGCCAATGGTAGTGATCTTTCCCCATCCAAATTAGCTGAAA\\r\\nGGGCAAACGCTCCTTTGCCTCCTCAGCCAAGAAAACATGATAAAACTCCTTCGCCTCAGAAGGTAGGAAG\\r\\nAGATTCTCCAACTAAGCAGCATGATCCTATTATTGATAAAAGAATTTCACTACAAACGCACGGGCGTGAG\\r\\nAAACTAAATAAATTTATCGATGAAAATGAGGCCTATTTAAATTTTACAGAAGGTGCACAACAAACCGCCG\\r\\nAATTTTCATCACCAGAGAAAACACTGGATCCAACGTCGAATAGACGTTCCTTGGGACTCACTGATTTATC\\r\\nTATTGAGCATAGTCAAACTTGGGAATCTAAAGATGATTTAATGAGAGATGAACTTGAACTGTGGAAAGCA\\r\\nCAACGTGAGGAAATGGAACTTGAAATAAAACAAGATAGTGGGGAAATCCAAGAGGATCTAGAAGTTGATC\\r\\nACATTGATTTAGAGACCAAACAGAAACTAGACTGGGAGAACAAAAATGATTTCCGTGAAGCTGATTTGAC\\r\\nAATAGATTCCACACACACAAATCCATTCCGCGATATGAATAGTGAAACCTTTCAAATTGAACAAGACCAT\\r\\nGCTTCAAAGGAAGTACTACAAGAAACAGTGTCCTTGGCTCCTACAAGTACTCATGCCTCCAGAACCACTG\\r\\nATCAACAATCTCCGCAGAAATCACAAACCAGCACAAGCGCAAAGCATAAAAAGAGAGCGGCTAAACGTCG\\r\\nTAAGGTTTCATTAGATAATTTCGTATTACTCAAAGTTCTTGGTAAAGGTAATTTTGGTAAAGTTATTTTA\\r\\nTCTAAATCAAAGAATACTGACAGGCTTTGTGCCATAAAAGTTCTGAAGAAAGATAATATTATTCAAAATC\\r\\nATGACATCGAGAGTGCAAGAGCAGAAAAGAAAGTATTTTTGTTAGCCACAAAAACTAAACACCCATTCTT\\r\\nAACCAATCTATACTGCTCTTTTCAAACTGAAAACCGTATATATTTTGCTATGGAGTTTATTGGGGGCGGT\\r\\nGACTTAATGTGGCATGTTCAAAACCAAAGACTATCTGTAAGAAGGGCCAAATTTTATGCCGCCGAGGTCT\\r\\nTACTGGCTCTGAAATATTTTCATGATAATGGTGTAATATACCGTGATTTGAAGTTGGAAAACATTCTATT\\r\\nAACTCCAGAAGGTCATATAAAAATTGCCGATTATGGTTTGTGTAAAGATGAAATGTGGTATGGTAATAGA\\r\\nACTTCTACATTTTGTGGCACACCAGAATTTATGGCTCCAGAAATTTTAAAAGAGCAAGAATATACCAAAG\\r\\nCTGTCGATTGGTGGGCATTTGGGGTGCTGCTATATCAAATGCTACTGTGCCAATCTCCATTCTCAGGAGA\\r\\nTGACGAAGATGAAGTTTTTAACGCTATCCTTACCGATGAACCCTTATACCCAATAGATATGGCAGGTGAG\\r\\nATTGTACAAATATTCCAAGGCCTATTAACAAAAGATCCTGAAAAGAGGTTGGGTGCTGGTCCCAGGGACG\\r\\nCAGACGAAGTTATGGAAGAACCTTTCTTCCGTAACATCAACTTTGACGATATCTTAAACCTTCGCGTGAA\\r\\nACCACCCTACATCCCAGAAATTAAATCTCCGGAAGATACATCATATTTCGAGCAAGAATTCACCTCTGCG\\r\\nCCACCCACACTTACACCTCTGCCCTCTGTTTTGACAACGAGCCAGCAAGAAGAGTTTAGAGGATTTTCCT\\r\\nTTATGCCAGATGATTTGGATTTATGA'"
      ]
     },
     "execution_count": 38,
     "metadata": {},
     "output_type": "execute_result"
    }
   ],
   "source": [
    "nucl"
   ]
  },
  {
   "cell_type": "markdown",
   "metadata": {},
   "source": [
    "# Blastn"
   ]
  },
  {
   "cell_type": "code",
   "execution_count": 82,
   "metadata": {},
   "outputs": [],
   "source": [
    "blast = 'blastn'"
   ]
  },
  {
   "cell_type": "code",
   "execution_count": 83,
   "metadata": {},
   "outputs": [
    {
     "data": {
      "text/plain": [
       "True"
      ]
     },
     "execution_count": 83,
     "metadata": {},
     "output_type": "execute_result"
    }
   ],
   "source": [
    "# lanzamos el análisis al Browser de NCBI\n",
    "url = 'https://blast.ncbi.nlm.nih.gov/Blast.cgi?PROGRAM='+blast+'&PAGE_TYPE=BlastSearch&BLAST_SPEC=&LINK_LOC=blasttab&QUERY='+nucl\n",
    "webbrowser.open_new_tab(url)"
   ]
  },
  {
   "cell_type": "code",
   "execution_count": null,
   "metadata": {},
   "outputs": [],
   "source": []
  },
  {
   "cell_type": "code",
   "execution_count": null,
   "metadata": {},
   "outputs": [],
   "source": []
  },
  {
   "cell_type": "code",
   "execution_count": null,
   "metadata": {},
   "outputs": [],
   "source": []
  },
  {
   "cell_type": "code",
   "execution_count": null,
   "metadata": {},
   "outputs": [],
   "source": []
  },
  {
   "cell_type": "code",
   "execution_count": null,
   "metadata": {},
   "outputs": [],
   "source": []
  },
  {
   "cell_type": "code",
   "execution_count": null,
   "metadata": {},
   "outputs": [],
   "source": []
  },
  {
   "cell_type": "code",
   "execution_count": null,
   "metadata": {},
   "outputs": [],
   "source": []
  },
  {
   "cell_type": "code",
   "execution_count": null,
   "metadata": {},
   "outputs": [],
   "source": []
  },
  {
   "cell_type": "code",
   "execution_count": null,
   "metadata": {},
   "outputs": [],
   "source": []
  },
  {
   "cell_type": "code",
   "execution_count": null,
   "metadata": {},
   "outputs": [],
   "source": []
  }
 ],
 "metadata": {
  "kernelspec": {
   "display_name": "Python 3",
   "language": "python",
   "name": "python3"
  },
  "language_info": {
   "codemirror_mode": {
    "name": "ipython",
    "version": 3
   },
   "file_extension": ".py",
   "mimetype": "text/x-python",
   "name": "python",
   "nbconvert_exporter": "python",
   "pygments_lexer": "ipython3",
   "version": "3.7.5"
  }
 },
 "nbformat": 4,
 "nbformat_minor": 4
}
